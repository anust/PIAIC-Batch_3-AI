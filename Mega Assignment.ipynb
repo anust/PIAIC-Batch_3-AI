{
 "cells": [
  {
   "cell_type": "raw",
   "metadata": {},
   "source": [
    "Q1. Which of the following terms are related to dictionaries?\n",
    "a. value\n",
    "b. item\n",
    "c. index\n",
    "d. key\n",
    "\n",
    "Answer: value , item , key\n",
    "    \n",
    "Q2. Just like lists, + operator is used to extend dictionaries?\n",
    "a. True\n",
    "b. False\n",
    "\n",
    "Answer: False\n",
    "\n",
    "Q3. To access items from a dictionary, we specify the index of that item within [] like myDict[0]?\n",
    "a. True\n",
    "b. False\n",
    "\n",
    "Answer: False\n",
    "\n",
    "Q4. When we use [] to access the value from a dictionary which does not exist in that dictionary....?\n",
    "a. Value within [] is added to the dictionary\n",
    "b. Value None is returned\n",
    "c. New dictionary is created\n",
    "d. None of above\n",
    "\n",
    "Answer: None of above\n",
    "\n",
    "Q5. What does return the pop method of a dictionary?\n",
    "a. list\n",
    "b. tuple containing the pair of last item of the dictionary\n",
    "c. dictionary\n",
    "d. value of the key, if it exists in the dictionary\n",
    "\n",
    "Answer: value of the key, if it exists in the dictionary\n",
    "\n",
    "Q6. What does return popitem method return?\n",
    "a. dictionary\n",
    "b. tupple containing the pair of last item of the dictionary\n",
    "c. list\n",
    "d. value of key, if it exists in the dictionary\n",
    "\n",
    "Answer: tupple containing the pair of last item of the dictionary\n",
    "\n",
    "Q7. Which of the following 2 methods can be used to iterate through the items of a dictionary?\n",
    "a. items()\n",
    "b. values()\n",
    "c. indexes()\n",
    "d. keys()\n",
    "\n",
    "Answer: values(), keys()\n",
    "\n",
    "Q8. Which one of the following is used to enclose a dictionary?\n",
    "a. () parenthesis\n",
    "b. {} curly brackets\n",
    "c. [] square brackets\n",
    "d. “” quotation marks\n",
    "\n",
    "Answer: {} curly brackets"
   ]
  },
  {
   "cell_type": "raw",
   "metadata": {},
   "source": [
    "Q9. Write Python Program add key-value pair in dictionary and check if a Given Key or Value or Both Exists in a Dictionary or Not.\n",
    "\n",
    "Answer:"
   ]
  },
  {
   "cell_type": "code",
   "execution_count": 1,
   "metadata": {},
   "outputs": [
    {
     "name": "stdout",
     "output_type": "stream",
     "text": [
      "Enter key or value = Ahmed\n",
      "yes present\n"
     ]
    }
   ],
   "source": [
    "dictionary = {'Name' : 'Ahmed', 'course':'A.I'}\n",
    "keyval = input('Enter key or value = ')\n",
    "a = dictionary.keys()\n",
    "b = dictionary.values()\n",
    "if keyval in a or keyval in b:\n",
    "    print(\"yes present\")\n",
    "else:\n",
    "    print(\"not present\")"
   ]
  },
  {
   "cell_type": "raw",
   "metadata": {},
   "source": [
    "Q10. Write a Python Program to Count the Frequency of Words Appearing in a String Using a Dictionary and print only the words having Even (divisible by 2) frequency\n",
    "\n",
    "Answer:"
   ]
  },
  {
   "cell_type": "code",
   "execution_count": 42,
   "metadata": {},
   "outputs": [
    {
     "name": "stdout",
     "output_type": "stream",
     "text": [
      "Enter string: hello hello ayyt\n",
      "{'hello': 2, 'ayyt': 1}\n",
      "Filtered Dictionary : \n",
      "{'hello': 2}\n"
     ]
    }
   ],
   "source": [
    "input_string=input('Enter string: ')\n",
    "l={}\n",
    "l=input_string.split()\n",
    "wordfreq=[l.count(p) for p in l]\n",
    "names=(dict(zip(l,wordfreq)))\n",
    "print(names)\n",
    "newDict = dict()\n",
    "\n",
    "for (key, value) in names.items():\n",
    "  \n",
    "   if (int(value) %2 == 0):\n",
    "       newDict[key] = value\n",
    " \n",
    "print('Filtered Dictionary : ')\n",
    "print(newDict)"
   ]
  },
  {
   "cell_type": "code",
   "execution_count": 3,
   "metadata": {},
   "outputs": [
    {
     "name": "stdout",
     "output_type": "stream",
     "text": [
      "['Feb', 'Apr', 'Mar']\n",
      "['Mar', 'May', 'Jun', 'Jul', 'Aug', 'Jan']\n",
      "['Jun', 'Jul', 'Aug', 'Jan']\n",
      "['Apr', 'May', 'Jul']\n",
      "[]\n",
      "['Apr', 'Mar', 'May', 'Jun', 'Jul', 'Aug']\n",
      "['Jan', 'Jul', 'May', 'Apr']\n",
      "['Feb', 'Apr', 'Mar', 'May']\n"
     ]
    }
   ],
   "source": [
    "# Q11.\n",
    "\n",
    "# X = [\"Feb\", Apr, Mar, May, Jun, Jul, Aug, Jan]. What will be output of following?\n",
    "X = ['Feb', 'Apr', 'Mar', 'May', 'Jun', 'Jul', 'Aug', 'Jan']\n",
    "print(X[0:3])\n",
    "print(X[2:8])\n",
    "print(X[4:9])\n",
    "print(X[1:7:2])\n",
    "print(X[-1:-7])\n",
    "print(X[-7:7])\n",
    "print(X[-1:-8:-2])\n",
    "print(X[:4])"
   ]
  },
  {
   "cell_type": "raw",
   "metadata": {},
   "source": [
    "Q12. Remove the correct number from the list X\n",
    "X = [ 9,2,8,4,5]\n",
    "X__?__\n",
    "print (X)\n",
    "Output: [2,8,4,5]\n",
    "1) .delete(9)\n",
    "2) .rm(9)\n",
    "3) .remove(9)\n",
    "\n",
    "Answer: .remove(9)"
   ]
  },
  {
   "cell_type": "raw",
   "metadata": {},
   "source": [
    "Q13. p = 3\n",
    "q = 'hello! '\n",
    "print( q __?__ p)\n",
    "hello! hello! hello!\n",
    "1) *\n",
    "2) **\n",
    "3) +\n",
    "\n",
    "Answer: *"
   ]
  },
  {
   "cell_type": "raw",
   "metadata": {},
   "source": [
    "Q14. y = \"this is a random sentence\"\n",
    "print (y__?__)\n",
    "Output: THIS IS A RANDOM SENTENCE\n",
    "1) .upper()\n",
    "2) .upcase()\n",
    "3) .capitalize()\n",
    "\n",
    "Answer: .upper()"
   ]
  },
  {
   "cell_type": "code",
   "execution_count": 4,
   "metadata": {},
   "outputs": [
    {
     "name": "stdout",
     "output_type": "stream",
     "text": [
      "<class 'bool'>\n",
      "<class 'str'>\n",
      "<class 'int'>\n",
      "<class 'float'>\n"
     ]
    }
   ],
   "source": [
    "# Q15. \n",
    "p = True\n",
    "q = 'True'\n",
    "r = 2\n",
    "s = 2.0\n",
    "print(type(p))\n",
    "print(type(q))\n",
    "print(type(r))\n",
    "print(type(s))"
   ]
  },
  {
   "cell_type": "raw",
   "metadata": {},
   "source": [
    "Q16. What are the optional arguments to the function?\n",
    "function_1(R1, q, p=None, R2= None)\n",
    "1) q and R2\n",
    "2) p and R2\n",
    "3) p and R1\n",
    "4) R1 and q\n",
    "\n",
    "Answer: p and R2"
   ]
  },
  {
   "cell_type": "raw",
   "metadata": {},
   "source": [
    "Q17. Which command invokes method X() of the object p?\n",
    "1) X(p)\n",
    "2) p$x()\n",
    "3) X().p\n",
    "4) p.x()\n",
    "\n",
    "Answer: p.x()"
   ]
  },
  {
   "cell_type": "code",
   "execution_count": 5,
   "metadata": {},
   "outputs": [
    {
     "name": "stdout",
     "output_type": "stream",
     "text": [
      "0\n",
      "2.0\n",
      "2\n",
      "2\n"
     ]
    }
   ],
   "source": [
    "# Q18. \n",
    "\n",
    "X = 4\n",
    "Y = 2\n",
    "print(X % Y)\n",
    "print(X / Y)\n",
    "print(X // Y)\n",
    "print(Y % X)"
   ]
  },
  {
   "cell_type": "code",
   "execution_count": 6,
   "metadata": {},
   "outputs": [
    {
     "name": "stdout",
     "output_type": "stream",
     "text": [
      "4\n",
      "1\n",
      "1\n",
      "5\n",
      "9\n",
      "0\n"
     ]
    }
   ],
   "source": [
    "# Q19(a). \n",
    "\n",
    "x = [[4, 1, 1], [5, 9, 0]]\n",
    "for i in x:\n",
    "    for j in i:\n",
    "        print(j)"
   ]
  },
  {
   "cell_type": "code",
   "execution_count": 7,
   "metadata": {
    "scrolled": true
   },
   "outputs": [
    {
     "name": "stdout",
     "output_type": "stream",
     "text": [
      "4 5 \n",
      "1 9 \n",
      "1 0 \n"
     ]
    }
   ],
   "source": [
    "# Q19(b). \n",
    "\n",
    "x = [[4,1,1],[5,9,0]]\n",
    "for i in range(len(x[j])):\n",
    "    for j in range(len(x)):\n",
    "        print(x[j][i],end = ' ')\n",
    "    print()"
   ]
  },
  {
   "cell_type": "code",
   "execution_count": 8,
   "metadata": {},
   "outputs": [
    {
     "name": "stdout",
     "output_type": "stream",
     "text": [
      "4 1 1 5 9 0 "
     ]
    }
   ],
   "source": [
    "# Q19(c). \n",
    "\n",
    "x = [[4, 1, 1], [5, 9, 0]]\n",
    "x1 = []\n",
    "for i in range(len(x)):\n",
    "    for j in range(len(x[i])):\n",
    "        print(x[i][j], end = ' ')"
   ]
  },
  {
   "cell_type": "code",
   "execution_count": 9,
   "metadata": {},
   "outputs": [
    {
     "name": "stdout",
     "output_type": "stream",
     "text": [
      "4 1 1 \n",
      "5 9 0 \n"
     ]
    }
   ],
   "source": [
    "# Q19(d).\n",
    "\n",
    "x = [[4,1,1],[5,9,0]]\n",
    "for i in range(len(x)):\n",
    "    for j in range(len(x[i])):\n",
    "        print(x[i][j], end=' ')\n",
    "    print()"
   ]
  },
  {
   "cell_type": "raw",
   "metadata": {},
   "source": [
    "Q20. q = [10.62, 16.14, 6.45, 17.11]\n",
    "for __?__, z in enumerate (q) :\n",
    "    print( 'Item' + str( j ) + '-', str ( z ))\n",
    "Output:\n",
    "Item 0 – 10.62\n",
    "Item 1 – 16.14\n",
    "Item 2 – 6.45\n",
    "Item 3 – 17.11\n",
    "1) z\n",
    "2) i\n",
    "3) j\n",
    "4) x\n",
    "5) k\n",
    "6) y\n",
    "\n",
    "Answer: j"
   ]
  },
  {
   "cell_type": "raw",
   "metadata": {},
   "source": [
    "Q21. Which of these about a dictionary is false?\n",
    "a) The values of a dictionary can be accessed using keys\n",
    "b) The keys of a dictionary can be accessed using values\n",
    "c) Dictionaries aren’t ordered\n",
    "d) Dictionaries are mutable\n",
    "\n",
    "Answer: The keys of a dictionary can be accessed using values"
   ]
  },
  {
   "cell_type": "code",
   "execution_count": 10,
   "metadata": {},
   "outputs": [
    {
     "name": "stdout",
     "output_type": "stream",
     "text": [
      "{0: 1, 1: 1, 2: 1}\n"
     ]
    }
   ],
   "source": [
    "# Q22. What is the output of the following:\n",
    "D = dict()\n",
    "for i in range(3):\n",
    "    for j in range(2):\n",
    "        D[i] = j\n",
    "print(D)"
   ]
  },
  {
   "cell_type": "raw",
   "metadata": {},
   "source": [
    "Q23. You are writing a function that increments player score in a soccer game\n",
    "If no value is specified for points, then point must start with 1\n",
    "If no value is specified for bonus, then bonus should be True\n",
    "01 def increment_score ( bonus , score , points ):\n",
    "To meet the first requirement line 01 must be change to\n",
    "a - def increment_score ( bonus , score , points = 1 ): (True or False)\n",
    "To meet the second requirement line 01 must be change to\n",
    "b - def increment_score ( bonus = True , score , points = 1 ): (True or False)\n",
    "c - Once a parameter is defined with default value, any parameter to the right must also be defined with default values: (True or False)\n",
    "\n",
    "Answer:\n",
    "    a - True\n",
    "    b - True\n",
    "    c - False"
   ]
  },
  {
   "cell_type": "code",
   "execution_count": 11,
   "metadata": {},
   "outputs": [
    {
     "name": "stdout",
     "output_type": "stream",
     "text": [
      "11.333333333333334\n"
     ]
    }
   ],
   "source": [
    "# Q24. What will be output?\n",
    "def avg ( x , y , z = 50 ):\n",
    "    adding = x + y + z\n",
    "    avg_value = adding / 3\n",
    "    return avg_value\n",
    "y = avg ( x = 5 , y = 9 , z = 20 )\n",
    "print(y)"
   ]
  },
  {
   "cell_type": "code",
   "execution_count": 12,
   "metadata": {},
   "outputs": [
    {
     "name": "stdout",
     "output_type": "stream",
     "text": [
      "name is:AliMarks: 44.5\n"
     ]
    }
   ],
   "source": [
    "# Q25. What will be output? Describe it with reason and logic behind. Do multiple experiments with arguments / parameters to remove error, if occurs.\n",
    "def avg(*opt_values,name):\n",
    "    avg_value = sum(opt_values) / len(opt_values)\n",
    "    print('name is:' + name + 'Marks: ' + str(avg_value))\n",
    "avg(5,9,20,34,87,112,name='Ali')"
   ]
  },
  {
   "cell_type": "code",
   "execution_count": 13,
   "metadata": {},
   "outputs": [
    {
     "name": "stdout",
     "output_type": "stream",
     "text": [
      "The winner was Manchester\n",
      "The score was 1-0\n"
     ]
    }
   ],
   "source": [
    "# Q26. Final output is not required. Just take copy pencil, think and write the output of each line, write down the link between parameters and arguments. Remove one or two ** from other_info and observe the ouput.\n",
    "def display_result(winner, score, **other_info):\n",
    "    print(\"The winner was \" + winner)\n",
    "    print(\"The score was \" + score)\n",
    "    #print(\"Overtime used \" + overtime)\n",
    "    #print(\"Players injured \" + injuries)\n",
    "display_result(winner=\"Manchester\", score=\"1-0\", overtime=\"yes\", injuries=\"none\")"
   ]
  },
  {
   "cell_type": "code",
   "execution_count": 14,
   "metadata": {},
   "outputs": [
    {
     "ename": "SyntaxError",
     "evalue": "invalid syntax (<ipython-input-14-c7d3036641d4>, line 2)",
     "output_type": "error",
     "traceback": [
      "\u001b[0;36m  File \u001b[0;32m\"<ipython-input-14-c7d3036641d4>\"\u001b[0;36m, line \u001b[0;32m2\u001b[0m\n\u001b[0;31m    def display_result(winner, **other_info, score):\u001b[0m\n\u001b[0m                                                 ^\u001b[0m\n\u001b[0;31mSyntaxError\u001b[0m\u001b[0;31m:\u001b[0m invalid syntax\n"
     ]
    }
   ],
   "source": [
    "# Q27. The position of parameters and arguments is re-arranged. Just think and find the logic behind output or error.\n",
    "def display_result(winner, **other_info, score):\n",
    "    print(\"The winner was \" + winner)\n",
    "    print(\"The score was \" + score)\n",
    "display_result(winner=\"Manchester\", overtime=\"yes\", injuries=\"none“ , score=\"1-0\")"
   ]
  },
  {
   "cell_type": "raw",
   "metadata": {},
   "source": [
    "# Q28. What will be the output of the following Python expression if X=123?\n",
    "X=123\n",
    "print(\"%06d\"%X)\n",
    "a) 123000\n",
    "b) 000123\n",
    "c) 000000123\n",
    "d) 123000000\n",
    "\n",
    "Answer: 000123"
   ]
  },
  {
   "cell_type": "raw",
   "metadata": {},
   "source": [
    "# Q29. What will be the output of the following Python expression if x=22.19?\n",
    "x=22.19\n",
    "print(\"%5.2f\"%x)\n",
    "a) 22.1900\n",
    "b) 22.00000\n",
    "c) 22.19\n",
    "d) 22.20\n",
    "\n",
    "Answer: 22.19"
   ]
  },
  {
   "cell_type": "raw",
   "metadata": {},
   "source": [
    "# Q30. What will be the output of the following Python code?\n",
    "'{0:f}, {1:2f}, {2:05.2f}'.format(1.23456, 1.23456, 1.23456)\n",
    "a) Error\n",
    "b) ‘1.234560, 1.22345, 1.23’\n",
    "c) No output\n",
    "d) ‘1.234560, 1.234560, 01.23’\n",
    "\n",
    "Answer: '1.234560, 1.234560, 01.23'"
   ]
  },
  {
   "cell_type": "code",
   "execution_count": 15,
   "metadata": {},
   "outputs": [
    {
     "name": "stdout",
     "output_type": "stream",
     "text": [
      "1\n",
      "1\n",
      "3\n"
     ]
    }
   ],
   "source": [
    "# Q31. Write down the output of each line after each iterations. Do multiple experiments to change values\n",
    "i = 1\n",
    "print(i)\n",
    "while False:\n",
    "    print(i)\n",
    "    if i%2 == 0:\n",
    "        print(i)\n",
    "        break\n",
    "print(i)\n",
    "i += 2\n",
    "print(i)"
   ]
  },
  {
   "cell_type": "code",
   "execution_count": 16,
   "metadata": {},
   "outputs": [
    {
     "name": "stdout",
     "output_type": "stream",
     "text": [
      "abcdef\n",
      "a\n",
      "abcde\n",
      "abcd\n",
      "abc\n",
      "ab\n",
      "a\n",
      "\n",
      "a "
     ]
    }
   ],
   "source": [
    "#Q32. Write down the output of each line after each iterations. Do multiple experiments to change values\n",
    "x = \"abcdef\"\n",
    "print(x)\n",
    "i = \"a\"\n",
    "print(i)\n",
    "while i in x:\n",
    "    x = x[:-1]\n",
    "    print(x)\n",
    "print(i, end = \" \")"
   ]
  },
  {
   "cell_type": "code",
   "execution_count": 17,
   "metadata": {},
   "outputs": [
    {
     "name": "stdout",
     "output_type": "stream",
     "text": [
      "d\n",
      "c\n",
      "b\n",
      "a\n"
     ]
    }
   ],
   "source": [
    "# Q33. Write down the output of each line after each iterations. Do multiple experiments to change values\n",
    "for i in ''.join(reversed(list('abcd'))):\n",
    "    print(i)"
   ]
  },
  {
   "cell_type": "code",
   "execution_count": 18,
   "metadata": {},
   "outputs": [
    {
     "name": "stdout",
     "output_type": "stream",
     "text": [
      "0\n",
      "1\n",
      "2\n",
      "3\n",
      "4\n"
     ]
    }
   ],
   "source": [
    "# Q34. Flow of the program. Write the output of each line after every iteration of ‘i’\n",
    "for i in range(10):\n",
    "    if i == 5:\n",
    "        break\n",
    "    else:\n",
    "        print(i)\n",
    "else:\n",
    "    print(\"Here\")"
   ]
  },
  {
   "cell_type": "code",
   "execution_count": 19,
   "metadata": {},
   "outputs": [
    {
     "name": "stdout",
     "output_type": "stream",
     "text": [
      "48\n"
     ]
    }
   ],
   "source": [
    "# Q35. What is the output? And understand the functionality of lambda function\n",
    "y = 6\n",
    "z = lambda x:x * y\n",
    "print(z(8))"
   ]
  },
  {
   "cell_type": "code",
   "execution_count": 20,
   "metadata": {},
   "outputs": [
    {
     "name": "stdout",
     "output_type": "stream",
     "text": [
      "0\n"
     ]
    }
   ],
   "source": [
    "# Q36. Write output and give proper logic of whatever the output comes.\n",
    "i=0\n",
    "def change(i):\n",
    "    i=i+1\n",
    "    return i\n",
    "change(1)\n",
    "print(i)"
   ]
  },
  {
   "cell_type": "code",
   "execution_count": 21,
   "metadata": {},
   "outputs": [
    {
     "name": "stdout",
     "output_type": "stream",
     "text": [
      "<class 'tuple'>\n",
      "(2, 3, 4)\n"
     ]
    }
   ],
   "source": [
    "# Q40. What will be output? Define this output clearly\n",
    "def change(one, *two):\n",
    "    print(type(two))\n",
    "    print(two)\n",
    "change(1,2,3,4)"
   ]
  },
  {
   "cell_type": "code",
   "execution_count": 22,
   "metadata": {},
   "outputs": [
    {
     "name": "stdout",
     "output_type": "stream",
     "text": [
      "<class 'dict'>\n"
     ]
    }
   ],
   "source": [
    "# Q41. What will be output? Define this output clearly\n",
    "def find(a, **b):\n",
    "    print(type(b))\n",
    "find('letters',A='1',B='2')"
   ]
  },
  {
   "cell_type": "code",
   "execution_count": 23,
   "metadata": {},
   "outputs": [
    {
     "name": "stdout",
     "output_type": "stream",
     "text": [
      "0\n",
      "[0]\n",
      "1\n",
      "[0, 1]\n",
      "2\n",
      "[0, 1, 2]\n"
     ]
    }
   ],
   "source": [
    "# Q42. Write output and define each line’s output for each iteration of ‘i’\n",
    "def foo(i, x=[]):\n",
    "    x.append(i)\n",
    "    print(x[i])\n",
    "    return x\n",
    "for i in range(3):\n",
    "    print(foo(i))"
   ]
  },
  {
   "cell_type": "code",
   "execution_count": 24,
   "metadata": {},
   "outputs": [
    {
     "name": "stdout",
     "output_type": "stream",
     "text": [
      "3\n",
      "4\n",
      "9\n",
      "12\n",
      "27\n",
      "15\n"
     ]
    }
   ],
   "source": [
    "# Q43. Evaluate the following Python arithmetic expression: and write which segment will execute first?\n",
    "#(Brackets, Exponents, Multiplication, Addition / Subtraction, Left to right rule)\n",
    "\n",
    "#print(3*(1+2)**2-(2**2)*3)\n",
    "print(1+2)\n",
    "print(2**2)\n",
    "print((1+2)**2)\n",
    "print((2**2)*3)\n",
    "print(3*(1+2)**2)\n",
    "print(3*(1+2)**2-(2**2)*3)"
   ]
  },
  {
   "cell_type": "raw",
   "metadata": {},
   "source": [
    "Q44.You are creating a function that manipulates a number. The function has the following requirements:\n",
    "- A float is passed into the function\n",
    "- The function must take the absolute value of the float\n",
    "- Any decimal points after the integer must be removed\n",
    "A. math.fmod(x)\n",
    "B. math.frexp(x)\n",
    "C. math.floor(x)\n",
    "D. math.ceil(x)\n",
    "E. math.fabs(x)\n",
    "\n",
    "Answer: \n",
    "1) math.fabs(x) For taking absolute value of the float\n",
    "2) math.floor(x) For removing decimal points after the integer"
   ]
  },
  {
   "cell_type": "raw",
   "metadata": {},
   "source": [
    "Q45. You are writing code that generates a random integer with a minimum value of 5 and a maximum value of 11.\n",
    "Which two functions should you use? Each correct answer presents a complete solution. (Choose two.)\n",
    "random.randint(5, 12)\n",
    "random.randint(5, 11)\n",
    "random.randrange(5, 12, 1)\n",
    "random.randrange(5, 11, 1)\n",
    "\n",
    "Answer:\n",
    "1) random.randint(5, 11)\n",
    "2) random.randrange(5, 12, 1)"
   ]
  },
  {
   "cell_type": "raw",
   "metadata": {},
   "source": [
    "Q46. Write a program that receives marks from user and check the grade.\n",
    "Marks greater than equal to 90 then A grade\n",
    "Marks between 80 to 90, B grade\n",
    "Marks between 70 to 80, C grade\n",
    "Marks between 60 to 70, D grade\n",
    "Marks less than equal to 60 then E grade\n",
    "\n",
    "Answer:"
   ]
  },
  {
   "cell_type": "code",
   "execution_count": 25,
   "metadata": {},
   "outputs": [
    {
     "name": "stdout",
     "output_type": "stream",
     "text": [
      "Enter your marks: 86\n",
      "B grade\n"
     ]
    }
   ],
   "source": [
    "marks = int(input('Enter your marks: '))\n",
    "if marks>=90:\n",
    "    print('A grade')\n",
    "elif marks>=80 and marks<90:\n",
    "    print('B grade')\n",
    "elif marks>=70 and marks<80:\n",
    "    print('C grade')\n",
    "elif marks>60 and marks<70:\n",
    "    print('D grade')\n",
    "else:\n",
    "    print('E grade')"
   ]
  }
 ],
 "metadata": {
  "kernelspec": {
   "display_name": "Python 3",
   "language": "python",
   "name": "python3"
  },
  "language_info": {
   "codemirror_mode": {
    "name": "ipython",
    "version": 3
   },
   "file_extension": ".py",
   "mimetype": "text/x-python",
   "name": "python",
   "nbconvert_exporter": "python",
   "pygments_lexer": "ipython3",
   "version": "3.7.4"
  }
 },
 "nbformat": 4,
 "nbformat_minor": 2
}
